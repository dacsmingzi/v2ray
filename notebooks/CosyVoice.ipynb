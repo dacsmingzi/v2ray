{
  "nbformat": 4,
  "nbformat_minor": 0,
  "metadata": {
    "colab": {
      "provenance": [],
      "gpuType": "T4",
      "include_colab_link": true
    },
    "kernelspec": {
      "name": "python3",
      "display_name": "Python 3"
    },
    "language_info": {
      "name": "python"
    },
    "accelerator": "GPU"
  },
  "cells": [
    {
      "cell_type": "markdown",
      "metadata": {
        "id": "view-in-github",
        "colab_type": "text"
      },
      "source": [
        "<a href=\"https://colab.research.google.com/github/dacsmingzi/v2ray/blob/master/notebooks/CosyVoice.ipynb\" target=\"_parent\"><img src=\"https://colab.research.google.com/assets/colab-badge.svg\" alt=\"Open In Colab\"/></a>"
      ]
    },
    {
      "cell_type": "code",
      "source": [
        "#@title 一键运行 CosyVoice\n",
        "!git clone --recursive https://github.com/KevinWang676/CosyVoice.git\n",
        "%cd CosyVoice\n",
        "!pip install -r requirements.txt\n",
        "!mkdir -p pretrained_models\n",
        "!git clone https://www.modelscope.cn/iic/CosyVoice-300M.git pretrained_models/CosyVoice-300M\n",
        "!export PYTHONPATH=third_party/Matcha-TTS\n",
        "!python3 webui_colab.py"
      ],
      "metadata": {
        "id": "lAEyVebGqnzS",
        "outputId": "b781ad41-d569-4518-8b7d-7533b3c5170b",
        "colab": {
          "base_uri": "https://localhost:8080/"
        }
      },
      "execution_count": null,
      "outputs": [
        {
          "output_type": "stream",
          "name": "stdout",
          "text": [
            "Cloning into 'CosyVoice'...\n",
            "remote: Enumerating objects: 481, done.\u001b[K\n",
            "remote: Counting objects: 100% (256/256), done.\u001b[K\n",
            "remote: Compressing objects: 100% (78/78), done.\u001b[K\n",
            "remote: Total 481 (delta 206), reused 178 (delta 178), pack-reused 225 (from 1)\u001b[K\n",
            "Receiving objects: 100% (481/481), 807.08 KiB | 7.27 MiB/s, done.\n",
            "Resolving deltas: 100% (259/259), done.\n",
            "Submodule 'third_party/Matcha-TTS' (https://github.com/shivammehta25/Matcha-TTS.git) registered for path 'third_party/Matcha-TTS'\n",
            "Cloning into '/content/CosyVoice/third_party/Matcha-TTS'...\n",
            "remote: Enumerating objects: 921, done.        \n",
            "remote: Counting objects: 100% (405/405), done.        \n",
            "remote: Compressing objects: 100% (122/122), done.        \n",
            "remote: Total 921 (delta 337), reused 283 (delta 283), pack-reused 516 (from 1)        \n",
            "Receiving objects: 100% (921/921), 64.08 MiB | 16.74 MiB/s, done.\n",
            "Resolving deltas: 100% (422/422), done.\n",
            "Submodule path 'third_party/Matcha-TTS': checked out 'dd9105b34bf2be2230f4aa1e4769fb586a3c824e'\n",
            "/content/CosyVoice\n",
            "Looking in indexes: https://pypi.org/simple, https://download.pytorch.org/whl/cu118\n",
            "Ignoring onnxruntime: markers 'sys_platform == \"darwin\" or sys_platform == \"windows\"' don't match your environment\n",
            "Collecting conformer==0.3.2 (from -r requirements.txt (line 2))\n",
            "  Downloading conformer-0.3.2-py3-none-any.whl.metadata (631 bytes)\n",
            "Collecting deepspeed==0.14.2 (from -r requirements.txt (line 3))\n",
            "  Downloading deepspeed-0.14.2.tar.gz (1.3 MB)\n",
            "\u001b[2K     \u001b[90m━━━━━━━━━━━━━━━━━━━━━━━━━━━━━━━━━━━━━━━━\u001b[0m \u001b[32m1.3/1.3 MB\u001b[0m \u001b[31m30.9 MB/s\u001b[0m eta \u001b[36m0:00:00\u001b[0m\n",
            "\u001b[?25h  Preparing metadata (setup.py) ... \u001b[?25l\u001b[?25hdone\n",
            "Collecting diffusers==0.27.2 (from -r requirements.txt (line 4))\n",
            "  Downloading diffusers-0.27.2-py3-none-any.whl.metadata (18 kB)\n",
            "Collecting gdown==5.1.0 (from -r requirements.txt (line 5))\n",
            "  Downloading gdown-5.1.0-py3-none-any.whl.metadata (5.7 kB)\n",
            "Collecting gradio==4.32.2 (from -r requirements.txt (line 6))\n",
            "  Downloading gradio-4.32.2-py3-none-any.whl.metadata (15 kB)\n",
            "Collecting grpcio==1.57.0 (from -r requirements.txt (line 7))\n",
            "  Downloading grpcio-1.57.0-cp310-cp310-manylinux_2_17_x86_64.manylinux2014_x86_64.whl.metadata (4.0 kB)\n",
            "Collecting grpcio-tools==1.57.0 (from -r requirements.txt (line 8))\n",
            "  Downloading grpcio_tools-1.57.0-cp310-cp310-manylinux_2_17_x86_64.manylinux2014_x86_64.whl.metadata (6.2 kB)\n",
            "Collecting hydra-core==1.3.2 (from -r requirements.txt (line 9))\n",
            "  Downloading hydra_core-1.3.2-py3-none-any.whl.metadata (5.5 kB)\n",
            "Collecting HyperPyYAML==1.2.2 (from -r requirements.txt (line 10))\n",
            "  Downloading HyperPyYAML-1.2.2-py3-none-any.whl.metadata (7.6 kB)\n",
            "Collecting inflect==7.3.1 (from -r requirements.txt (line 11))\n",
            "  Downloading inflect-7.3.1-py3-none-any.whl.metadata (21 kB)\n",
            "Collecting librosa==0.10.2 (from -r requirements.txt (line 12))\n",
            "  Downloading librosa-0.10.2-py3-none-any.whl.metadata (8.6 kB)\n",
            "Collecting lightning==2.2.4 (from -r requirements.txt (line 13))\n",
            "  Downloading lightning-2.2.4-py3-none-any.whl.metadata (53 kB)\n",
            "\u001b[2K     \u001b[90m━━━━━━━━━━━━━━━━━━━━━━━━━━━━━━━━━━━━━━━━\u001b[0m \u001b[32m53.4/53.4 kB\u001b[0m \u001b[31m4.7 MB/s\u001b[0m eta \u001b[36m0:00:00\u001b[0m\n",
            "\u001b[?25hCollecting matplotlib==3.7.5 (from -r requirements.txt (line 14))\n",
            "  Downloading matplotlib-3.7.5-cp310-cp310-manylinux_2_17_x86_64.manylinux2014_x86_64.whl.metadata (5.7 kB)\n",
            "Collecting modelscope==1.15.0 (from -r requirements.txt (line 15))\n",
            "  Downloading modelscope-1.15.0-py3-none-any.whl.metadata (33 kB)\n",
            "Collecting networkx==3.1 (from -r requirements.txt (line 16))\n",
            "  Downloading networkx-3.1-py3-none-any.whl.metadata (5.3 kB)\n",
            "Collecting omegaconf==2.3.0 (from -r requirements.txt (line 17))\n",
            "  Downloading omegaconf-2.3.0-py3-none-any.whl.metadata (3.9 kB)\n",
            "Collecting onnxruntime-gpu==1.16.0 (from -r requirements.txt (line 18))\n",
            "  Downloading onnxruntime_gpu-1.16.0-cp310-cp310-manylinux_2_17_x86_64.manylinux2014_x86_64.whl.metadata (4.0 kB)\n",
            "Collecting openai-whisper==20231117 (from -r requirements.txt (line 20))\n",
            "  Downloading openai-whisper-20231117.tar.gz (798 kB)\n",
            "\u001b[2K     \u001b[90m━━━━━━━━━━━━━━━━━━━━━━━━━━━━━━━━━━━━━━━━\u001b[0m \u001b[32m798.6/798.6 kB\u001b[0m \u001b[31m42.7 MB/s\u001b[0m eta \u001b[36m0:00:00\u001b[0m\n",
            "\u001b[?25h  Installing build dependencies ... \u001b[?25l\u001b[?25hdone\n",
            "  Getting requirements to build wheel ... \u001b[?25l\u001b[?25hdone\n",
            "  Preparing metadata (pyproject.toml) ... \u001b[?25l\u001b[?25hdone\n",
            "Collecting protobuf==4.25 (from -r requirements.txt (line 21))\n",
            "  Downloading protobuf-4.25.0-cp37-abi3-manylinux2014_x86_64.whl.metadata (541 bytes)\n",
            "Collecting pydantic==2.7.0 (from -r requirements.txt (line 22))\n",
            "  Downloading pydantic-2.7.0-py3-none-any.whl.metadata (103 kB)\n",
            "\u001b[2K     \u001b[90m━━━━━━━━━━━━━━━━━━━━━━━━━━━━━━━━━━━━━━━━\u001b[0m \u001b[32m103.4/103.4 kB\u001b[0m \u001b[31m7.4 MB/s\u001b[0m eta \u001b[36m0:00:00\u001b[0m\n",
            "\u001b[?25hCollecting rich==13.7.1 (from -r requirements.txt (line 23))\n",
            "  Downloading rich-13.7.1-py3-none-any.whl.metadata (18 kB)\n",
            "Requirement already satisfied: soundfile==0.12.1 in /usr/local/lib/python3.10/dist-packages (from -r requirements.txt (line 24)) (0.12.1)\n",
            "Collecting tensorboard==2.14.0 (from -r requirements.txt (line 25))\n",
            "  Downloading tensorboard-2.14.0-py3-none-any.whl.metadata (1.8 kB)\n",
            "Collecting torch==2.0.1 (from -r requirements.txt (line 26))\n",
            "  Downloading https://download.pytorch.org/whl/cu118/torch-2.0.1%2Bcu118-cp310-cp310-linux_x86_64.whl (2267.3 MB)\n",
            "\u001b[2K     \u001b[91m━━━━━━━━━━━━━━━━━━━━\u001b[0m\u001b[90m╺\u001b[0m\u001b[90m━━━━━━━━━━━━━━━━━━━\u001b[0m \u001b[32m1.1/2.3 GB\u001b[0m \u001b[31m107.7 MB/s\u001b[0m eta \u001b[36m0:00:11\u001b[0m"
          ]
        }
      ]
    },
    {
      "cell_type": "code",
      "source": [],
      "metadata": {
        "id": "7FjBPnhPL8Pu"
      },
      "execution_count": null,
      "outputs": []
    }
  ]
}